{
 "cells": [
  {
   "cell_type": "code",
   "execution_count": 23,
   "metadata": {},
   "outputs": [
    {
     "name": "stdout",
     "output_type": "stream",
     "text": [
      "[5.0, 0.0]\n",
      "[4.330127018922194, 2.4999999999999996]\n",
      "[2.5000000000000004, 4.330127018922193]\n",
      "[3.061616997868383e-16, 5.0]\n",
      "[-2.499999999999999, 4.330127018922194]\n",
      "[-4.330127018922194, 2.4999999999999996]\n",
      "[-5.0, 6.123233995736766e-16]\n",
      "[-4.330127018922193, -2.5000000000000004]\n",
      "[-2.500000000000002, -4.330127018922192]\n",
      "[-9.184850993605148e-16, -5.0]\n",
      "[2.5000000000000004, -4.330127018922193]\n",
      "[4.330127018922192, -2.500000000000002]\n"
     ]
    },
    {
     "data": {
      "image/png": "[encoded data removed]",
      "text/plain": [
       "<Figure size 432x288 with 1 Axes>"
      ]
     },
     "metadata": {
      "needs_background": "light"
     },
     "output_type": "display_data"
    }
   ],
   "source": [
    "import math\n",
    "import numpy as np\n",
    "import time\n",
    "from scipy.spatial import distance\n",
    "from math import pi,sin,atan,cos\n",
    "import matplotlib.pyplot as plt\n",
    "\n",
    "\n",
    "def move(i,j,t,s):\n",
    "    t=math.radians(t)\n",
    "    new_node=[i+s*cos(t),j+s*sin(t)]     \n",
    "    return new_node\n",
    "\n",
    "fig, ax = plt.subplots()\n",
    "plt.grid()\n",
    "\n",
    "ax.set_aspect('equal')\n",
    "\n",
    "plt.xlim(-10,10)\n",
    "plt.ylim(-10,10)\n",
    "X0 = np.array((0))\n",
    "Y0= np.array((0))\n",
    "U0 = np.array((2))\n",
    "V0 = np.array((-2))\n",
    "for t in range(0,360,30):\n",
    "    a=move(0,0,t,5)\n",
    "    q0 = plt.quiver(0, 0, a[0], a[1],units='xy' ,scale=1,color= 'r')\n",
    "    print(a)\n",
    "    \n"
   ]
  },
  {
   "cell_type": "code",
   "execution_count": null,
   "metadata": {},
   "outputs": [],
   "source": [
    "    \n",
    "X0 = np.array((0))\n",
    "Y0= np.array((0))\n",
    "U0 = np.array((2))\n",
    "V0 = np.array((-2))\n",
    "fig, ax = plt.subplots()\n",
    "q0 = plt.quiver(X0, Y0, U0, V0,units='xy' ,scale=1,color= 'r',headwidth = 1,headlength=0)\n",
    "Node=[X0+U0, Y0+V0]\n",
    "print('Node0: ')\n",
    "print(Node)\n",
    "X1 = np.array((2))\n",
    "Y1= np.array((-2))\n",
    "U1 = np.array((3))\n",
    "V1 = np.array((-2))\n",
    "\n",
    "q1 = plt.quiver(X1, Y1, U1, V1,units='xy' ,scale=1)\n",
    "\n",
    "Node1=[X1+U1, Y1+V1]\n",
    "\n",
    "print('Node1: ')\n",
    "\n",
    "print(Node1)\n",
    "\n",
    "X2 = np.array((2))\n",
    "Y2= np.array((-2))\n",
    "U2 = np.array((3))\n",
    "V2 = np.array((-1))\n",
    "\n",
    "q2 = ax.quiver(X2, Y2, U2, V2,units='xy' ,scale=1)\n",
    "\n",
    "Node2=[X2+U2, Y2+V2]\n",
    "\n",
    "print('Node2: ')\n",
    "print(Node2)\n",
    "\n",
    "\n",
    "\n",
    "X3 = np.array((2))\n",
    "Y3= np.array((-2))\n",
    "U3 = np.array((1))\n",
    "V3 = np.array((-3.5))\n",
    "\n",
    "q3 = ax.quiver(X3, Y3, U3, V3,units='xy' ,scale=1)\n",
    "\n",
    "Node3=[X3+U3, Y3+V3]\n",
    "\n",
    "print('Node3: ')\n",
    "\n",
    "print(Node3)\n",
    "\n",
    "\n",
    "\n",
    "\n",
    "plt.grid()\n",
    "\n",
    "ax.set_aspect('equal')\n",
    "\n",
    "plt.xlim(-10,10)\n",
    "plt.ylim(-10,10)\n",
    "\n",
    "plt.title('How to plot a vector in matplotlib ?',fontsize=10)\n",
    "\n",
    "# plt.savefig('how_to_plot_a_vector_in_matplotlib_fig3.png', bbox_inches='tight')\n",
    "\n",
    "plt.show()\n",
    "plt.close()"
   ]
  }
 ],
 "metadata": {
  "kernelspec": {
   "display_name": "Python 3",
   "language": "python",
   "name": "python3"
  },
  "language_info": {
   "codemirror_mode": {
    "name": "ipython",
    "version": 3
   },
   "file_extension": ".py",
   "mimetype": "text/x-python",
   "name": "python",
   "nbconvert_exporter": "python",
   "pygments_lexer": "ipython3",
   "version": "3.7.6"
  }
 },
 "nbformat": 4,
 "nbformat_minor": 4
}
