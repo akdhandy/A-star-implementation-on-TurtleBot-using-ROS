{
 "cells": [
  {
   "cell_type": "code",
   "execution_count": 93,
   "metadata": {},
   "outputs": [],
   "source": [
    "#Normalizing the positions with thresholding\n",
    "def normalize(startPosition,startOrientation,thresholdDistance=0.5, thresholdAngle=30):\n",
    "    x,y = startPosition\n",
    "    t = startOrientation\n",
    "    x = round(x/thresholdDistance)* thresholdDistance\n",
    "    x=(x/thresholdDistance)\n",
    "    y = round(y/thresholdDistance)* thresholdDistance\n",
    "    y=(y/thresholdDistance)\n",
    "    t = round(t/thresholdAngle) * thresholdAngle\n",
    "    t=(t/30)\n",
    "    return [int(x),int(y),int(t)] \n",
    "\n",
    "# Calculating the Euclidean distance\n",
    "def distance(startCoordinate,goalCoordinate):\n",
    "    sx,sy = startPosition\n",
    "    gx,gy = goalPosition\n",
    "    return math.sqrt((gx-sx)**2 + (gy-sy)**2)#instead of using scipy.spatial importing distance"
   ]
  },
  {
   "cell_type": "code",
   "execution_count": 94,
   "metadata": {},
   "outputs": [
    {
     "data": {
      "text/plain": [
       "[2, 11, 2]"
      ]
     },
     "execution_count": 94,
     "metadata": {},
     "output_type": "execute_result"
    }
   ],
   "source": [
    "normalize([1.2,5.6],62)"
   ]
  },
  {
   "cell_type": "code",
   "execution_count": 79,
   "metadata": {},
   "outputs": [
    {
     "name": "stdout",
     "output_type": "stream",
     "text": [
      "0\n",
      "30\n",
      "60\n",
      "90\n",
      "120\n",
      "150\n",
      "180\n",
      "210\n",
      "240\n",
      "270\n",
      "300\n",
      "330\n"
     ]
    },
    {
     "data": {
      "text/plain": [
       "0.0"
      ]
     },
     "execution_count": 79,
     "metadata": {},
     "output_type": "execute_result"
    }
   ],
   "source": [
    "for i in range(12):\n",
    "    print(30*i)\n",
    "0/30"
   ]
  },
  {
   "cell_type": "code",
   "execution_count": 17,
   "metadata": {},
   "outputs": [
    {
     "ename": "NameError",
     "evalue": "name 'currentNode' is not defined",
     "output_type": "error",
     "traceback": [
      "\u001b[0;31m---------------------------------------------------------------------------\u001b[0m",
      "\u001b[0;31mNameError\u001b[0m                                 Traceback (most recent call last)",
      "\u001b[0;32m<ipython-input-17-6b83ceacc9a8>\u001b[0m in \u001b[0;36m<module>\u001b[0;34m\u001b[0m\n\u001b[1;32m      1\u001b[0m \u001b[0;32mfor\u001b[0m \u001b[0mtheta\u001b[0m \u001b[0;32min\u001b[0m \u001b[0mrange\u001b[0m\u001b[0;34m(\u001b[0m\u001b[0;36m12\u001b[0m\u001b[0;34m)\u001b[0m\u001b[0;34m:\u001b[0m\u001b[0;34m\u001b[0m\u001b[0;34m\u001b[0m\u001b[0m\n\u001b[0;32m----> 2\u001b[0;31m             \u001b[0mx\u001b[0m\u001b[0;34m,\u001b[0m\u001b[0my\u001b[0m\u001b[0;34m,\u001b[0m\u001b[0mt\u001b[0m    \u001b[0;34m=\u001b[0m \u001b[0mcurrentNode\u001b[0m\u001b[0;34m.\u001b[0m\u001b[0mstate\u001b[0m\u001b[0;34m\u001b[0m\u001b[0;34m\u001b[0m\u001b[0m\n\u001b[0m\u001b[1;32m      3\u001b[0m             \u001b[0mnewOrientation\u001b[0m \u001b[0;34m=\u001b[0m \u001b[0mmath\u001b[0m\u001b[0;34m.\u001b[0m\u001b[0mradians\u001b[0m\u001b[0;34m(\u001b[0m\u001b[0;34m(\u001b[0m\u001b[0mthresholdAngle\u001b[0m\u001b[0;34m*\u001b[0m\u001b[0mtheta\u001b[0m \u001b[0;34m+\u001b[0m \u001b[0mt\u001b[0m\u001b[0;34m)\u001b[0m\u001b[0;34m%\u001b[0m\u001b[0;36m360\u001b[0m\u001b[0;34m)\u001b[0m\u001b[0;34m\u001b[0m\u001b[0;34m\u001b[0m\u001b[0m\n\u001b[1;32m      4\u001b[0m             \u001b[0mnewPosX\u001b[0m \u001b[0;34m=\u001b[0m \u001b[0mthresholdDistance\u001b[0m\u001b[0;34m*\u001b[0m\u001b[0mmath\u001b[0m\u001b[0;34m.\u001b[0m\u001b[0mcos\u001b[0m\u001b[0;34m(\u001b[0m\u001b[0mnewOrientation\u001b[0m\u001b[0;34m)\u001b[0m \u001b[0;34m+\u001b[0m \u001b[0mx\u001b[0m\u001b[0;34m\u001b[0m\u001b[0;34m\u001b[0m\u001b[0m\n\u001b[1;32m      5\u001b[0m             \u001b[0mnewPosY\u001b[0m \u001b[0;34m=\u001b[0m \u001b[0mthresholdDistance\u001b[0m\u001b[0;34m*\u001b[0m\u001b[0mmath\u001b[0m\u001b[0;34m.\u001b[0m\u001b[0msin\u001b[0m\u001b[0;34m(\u001b[0m\u001b[0mnewOrientation\u001b[0m\u001b[0;34m)\u001b[0m \u001b[0;34m+\u001b[0m \u001b[0my\u001b[0m\u001b[0;34m\u001b[0m\u001b[0;34m\u001b[0m\u001b[0m\n",
      "\u001b[0;31mNameError\u001b[0m: name 'currentNode' is not defined"
     ]
    }
   ],
   "source": [
    "for theta in range(12): \n",
    "            x,y,t    = currentNode.state\n",
    "            newOrientation = math.radians((thresholdAngle*theta + t)%360)\n",
    "            newPosX = thresholdDistance*math.cos(newOrientation) + x \n",
    "            newPosY = thresholdDistance*math.sin(newOrientation) + y\n",
    "            newState = np.array(normalize([newPosX,newPosY],newOrientation,thresholdDistance,thresholdAngle))\n",
    "            s = str(newState[0])+str(newState[1]) \n",
    "           "
   ]
  },
  {
   "cell_type": "code",
   "execution_count": 25,
   "metadata": {},
   "outputs": [],
   "source": [
    "def generatePath(q,startPosition,startOrientation,goalPosition,nodesExplored,threshDistance = 0.5,threshAngle = 30):\n",
    "    #normalize goal and start positions\n",
    "    sx,sy,st = normalize(startPosition,startOrientation,threshDistance,threshAngle)\n",
    "    gx,gy,gt = normalize(goalPosition,0,threshDistance,threshAngle)#goalpostition orientation is not knowm\n"
   ]
  },
  {
   "cell_type": "code",
   "execution_count": 28,
   "metadata": {},
   "outputs": [],
   "source": [
    "def actionSet(d):\n",
    "    all_moves = [[d*1, 0, 0],                                # parallel to x\n",
    "                 [round(d*math.cos(pi/6),3),  round(d*math.sin(pi/6),3), 30],         # positive 30\n",
    "                 [round(d*math.cos(pi/3),3),  round(d*math.sin(pi/3),3), 60],         # positive 60\n",
    "                 [round(d*math.cos(11*pi/6),3), round(d*math.sin(11*pi/6),3), 330],        # negative 30\n",
    "                 [round(d*math.cos(5*pi/3),3), round(d*math.sin(5*pi/3),3), 300]]        # negative 60\n",
    "    return all_moves"
   ]
  },
  {
   "cell_type": "code",
   "execution_count": 95,
   "metadata": {},
   "outputs": [],
   "source": [
    "rad=1\n",
    "clearance=1\n",
    "\n",
    "tot=rad+clearance\n",
    "\n",
    "#Step size\n",
    "s=1\n",
    "x_start = 50\n",
    "y_start = 30\n",
    "theta_start = 60\n",
    "y_start = 199 - y_start\n",
    " \n",
    "start=normalize([x_start,y_start],theta_start)\n",
    "\n",
    "# normalize([1.7,5],30.5)\n",
    "#Geting the goal nodes from the user\n",
    "x_goal=150\n",
    "y_goal=150\n",
    "y_goal=199 - y_goal\n",
    "theta_goal = 0\n",
    "\n",
    "goal=normalize([x_goal,y_goal],theta_start)\n",
    "\n",
    "###################   INTIALISING COST,VISITED,PARENT AND QUEUE  ###############\n",
    "#Initializing cost as infinity \n",
    "cost_array=np.array(np.ones((600,400,12)) * np.inf)\n",
    "#Initializing visited nodes as empty array\n",
    "visited=np.array(np.zeros((600,400,12)))\n",
    "#Heuristic distance-Eucledian\n",
    "euclidean_array=np.array(np.ones((600,400,12)) * np.inf)\n",
    "#Initializing total cost with cost and distance\n",
    "totalcost=np.array(np.ones((600,400,12)) * np.inf)\n",
    "parent_list=np.zeros((600,400,12))\n",
    "parent_list=list(parent_list)\n",
    "Q=[]\n",
    "\n",
    "# append start point and initialize it's cost to zero\n",
    "Q.append([start[0],start[1],start[2]])\n",
    "cost_array[start[0]][start[1]][start[2]]=0\n",
    "totalcost[start[0]][start[1]][start[2]]=0\n",
    "\n",
    "# Priority Queue Function\n",
    "def pop(Q):\n",
    "    minimum_index=0\n",
    "    minimum_X = Q[0][0] \n",
    "    minimum_Y = Q[0][1]\n",
    "    minimum_th=Q[0][2]\n",
    "    for i in range(len(Q)):\n",
    "        x = Q[i][0]\n",
    "        y = Q[i][1]\n",
    "        z=Q[i][2]\n",
    "        if totalcost[x,y,z] < totalcost[minimum_X,minimum_Y,minimum_th]:\n",
    "            minimum_index = i\n",
    "            minimum_X = x \n",
    "            minimum_Y= y\n",
    "            minimum_th=z\n",
    "        \n",
    "    current_node = Q[minimum_index]\n",
    "    Q.remove(Q[minimum_index])\n",
    "    return current_node\n",
    "\n",
    "\n",
    "def move(i,t,s):\n",
    "    t=math.radians(t)\n",
    "    new_node=[i+s*cos(t),j+s*sin(t)]     \n",
    "    return new_node\n",
    "\n",
    "goalpoint=goal\n",
    "visited_node=[]\n",
    "current_node=start\n",
    "# while current_node[0:2]!=goal[0:2]:\n",
    "#     current_node=pop(Q)"
   ]
  },
  {
   "cell_type": "code",
   "execution_count": 197,
   "metadata": {},
   "outputs": [],
   "source": [
    "def move(i,t,s):\n",
    "    t=math.radians(t)\n",
    "    print(t)\n",
    "    p=math.radians(angle(i[2]))\n",
    "    print(p)\n",
    "    new_node=[i[0]+(s*cos(t+p)),i[1]+(s*sin(t+p)),math.degrees(t+p)]     \n",
    "    return new_node"
   ]
  },
  {
   "cell_type": "code",
   "execution_count": 198,
   "metadata": {},
   "outputs": [
    {
     "name": "stdout",
     "output_type": "stream",
     "text": [
      "0.0\n",
      "8.90117918517108\n"
     ]
    }
   ],
   "source": [
    "b=move(a,0,5)"
   ]
  },
  {
   "cell_type": "code",
   "execution_count": 200,
   "metadata": {},
   "outputs": [
    {
     "data": {
      "text/plain": [
       "0.5235987755982988"
      ]
     },
     "execution_count": 200,
     "metadata": {},
     "output_type": "execute_result"
    }
   ],
   "source": [
    "math.radians(a[2])"
   ]
  },
  {
   "cell_type": "code",
   "execution_count": 195,
   "metadata": {},
   "outputs": [],
   "source": [
    "start=[0,0,1]\n",
    "a=move(start,30,5)\n",
    "b=move(a,0,5)"
   ]
  },
  {
   "cell_type": "code",
   "execution_count": 193,
   "metadata": {},
   "outputs": [
    {
     "data": {
      "image/png": "[encoded data removed]",
      "text/plain": [
       "<Figure size 432x288 with 1 Axes>"
      ]
     },
     "metadata": {
      "needs_background": "light"
     },
     "output_type": "display_data"
    }
   ],
   "source": [
    "fig, ax = plt.subplots()\n",
    "plt.grid()\n",
    "ax.set_aspect('equal')\n",
    "\n",
    "plt.xlim(-10,10)\n",
    "plt.ylim(-10,10)\n",
    "# X0 = np.array((0))\n",
    "# Y0= np.array((0))\n",
    "# U0 = np.array((2))\n",
    "# V0 = np.array((-2))\n",
    "# q0 = plt.quiver(start[0], start[1], a[0], a[1],units='xy' ,scale=1,color= 'r')\n",
    "q1 = plt.quiver(0, 0, b[0], b[1],units='xy' ,scale=1,color= 'r')\n"
   ]
  },
  {
   "cell_type": "code",
   "execution_count": 151,
   "metadata": {
    "scrolled": true
   },
   "outputs": [
    {
     "name": "stdout",
     "output_type": "stream",
     "text": [
      "0\n",
      "30\n",
      "60\n",
      "90\n",
      "120\n",
      "150\n",
      "180\n",
      "-150\n",
      "-120\n",
      "-90\n",
      "-60\n",
      "-30\n"
     ]
    }
   ],
   "source": [
    "for i in range(1,13):\n",
    "    print(angle(i))"
   ]
  },
  {
   "cell_type": "code",
   "execution_count": null,
   "metadata": {},
   "outputs": [],
   "source": []
  },
  {
   "cell_type": "code",
   "execution_count": 106,
   "metadata": {},
   "outputs": [],
   "source": [
    "def angle(i):\n",
    "    if(i<8):\n",
    "        return(i-1)*30\n",
    "    else:\n",
    "        return(i-1)*30 -360\n",
    "        "
   ]
  },
  {
   "cell_type": "code",
   "execution_count": 111,
   "metadata": {},
   "outputs": [
    {
     "data": {
      "text/plain": [
       "-0.5235987755982988"
      ]
     },
     "execution_count": 111,
     "metadata": {},
     "output_type": "execute_result"
    }
   ],
   "source": [
    "math.radians(-30)"
   ]
  },
  {
   "cell_type": "code",
   "execution_count": null,
   "metadata": {},
   "outputs": [],
   "source": [
    "while current_node[0:2]!=goal[0:2]:\n",
    "    current_node=pop(Q)\n",
    "    \n",
    "    for t in range(0,360,30):\n",
    "        curr_node=move(current_node[0],current_node[1],t,s)\n",
    "        \n",
    "        status=boundary_check(curr_node[0],curr_node[1])\n",
    "        flag=obs_map(curr_node[0],curr_node[1])\n",
    "        \n",
    "        \n",
    "\n",
    "        if (status and flag == 1):\n",
    "          if visited[2*curr_node[0],2*curr_node[1]][t]==0:\n",
    "            visited[curr_node[0],curr_node[1]]=1\n",
    "            visited_node.append(curr_node)\n",
    "            Q.append(curr_node)\n",
    "            parent_list[curr_node[0]][curr_node[1]]=current_node\n",
    "            cost_array[curr_node[0],curr_node[1]]=(cost_array[current_node[0],current_node[1]]+s)\n",
    "            euclidean_array[curr_node[0],curr_node[1]]=distance.euclidean(curr_node, goalpoint)\n",
    "            totalcost[curr_node[0],curr_node[1]]= cost_array[curr_node[0],curr_node[1]]+euclidean_array[curr_node[0],curr_node[1]]\n",
    "          else:\n",
    "            if totalcost[curr_node[0],curr_node[1]]>(totalcost[current_node[0],current_node[1]]+1):\n",
    "                totalcost[curr_node[0],curr_node[1]]=(totalcost[current_node[0],current_node[1]]+1)\n",
    "                parent_list[curr_node[0]][curr_node[1]]=current_node"
   ]
  }
 ],
 "metadata": {
  "kernelspec": {
   "display_name": "Python 3",
   "language": "python",
   "name": "python3"
  },
  "language_info": {
   "codemirror_mode": {
    "name": "ipython",
    "version": 3
   },
   "file_extension": ".py",
   "mimetype": "text/x-python",
   "name": "python",
   "nbconvert_exporter": "python",
   "pygments_lexer": "ipython3",
   "version": "3.7.6"
  }
 },
 "nbformat": 4,
 "nbformat_minor": 2
}
