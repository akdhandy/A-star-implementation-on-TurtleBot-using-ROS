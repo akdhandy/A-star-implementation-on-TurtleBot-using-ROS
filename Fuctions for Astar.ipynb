{
 "cells": [
  {
   "cell_type": "code",
   "execution_count": null,
   "metadata": {},
   "outputs": [],
   "source": [
    "#Normalizing the positions with thresholding\n",
    "def normalize(startPosition,startOrientation,thresholdDistance=0.5, thresholdAngle=30):\n",
    "    x,y = startPosition\n",
    "    t = startOrientation\n",
    "    x = round(x/thresholdDistance)* thresholdDistance\n",
    "    y = round(y/thresholdDistance)* thresholdDistance\n",
    "    t = round(t/thresholdAngle) * threshAngle\n",
    "    return [x,y,t] \n",
    "\n",
    "# Calculating the Euclidean distance\n",
    "def distance(startCoordinate,goalCoordinate):\n",
    "    sx,sy = startPosition\n",
    "    gx,gy = goalPosition\n",
    "    return math.sqrt((gx-sx)**2 + (gy-sy)**2)#instead of using scipy.spatial importing distance"
   ]
  },
  {
   "cell_type": "code",
   "execution_count": null,
   "metadata": {},
   "outputs": [],
   "source": [
    "for theta in range(12): \n",
    "            x,y,t    = currentNode.state\n",
    "            newOrientation = math.radians((thresholdAngle*theta + t)%360)\n",
    "            newPosX = thresholdDistance*math.cos(newOrientation) + x \n",
    "            newPosY = thresholdDistance*math.sin(newOrientation) + y\n",
    "            newState = np.array(normalize([newPosX,newPosY],newOrientation,thresholdDistance,thresholdAngle))\n",
    "            s = str(newState[0])+str(newState[1]) \n",
    "           "
   ]
  },
  {
   "cell_type": "code",
   "execution_count": 40,
   "metadata": {},
   "outputs": [
    {
     "data": {
      "text/plain": [
       "30"
      ]
     },
     "execution_count": 40,
     "metadata": {},
     "output_type": "execute_result"
    }
   ],
   "source": [
    "round(30/30)*30"
   ]
  },
  {
   "cell_type": "code",
   "execution_count": 66,
   "metadata": {},
   "outputs": [
    {
     "data": {
      "text/plain": [
       "30"
      ]
     },
     "execution_count": 66,
     "metadata": {},
     "output_type": "execute_result"
    }
   ],
   "source": [
    "390%360"
   ]
  },
  {
   "cell_type": "code",
   "execution_count": 47,
   "metadata": {},
   "outputs": [
    {
     "data": {
      "text/plain": [
       "1.0471975511965976"
      ]
     },
     "execution_count": 47,
     "metadata": {},
     "output_type": "execute_result"
    }
   ],
   "source": [
    "import math\n",
    "math.radians(60)"
   ]
  },
  {
   "cell_type": "code",
   "execution_count": 67,
   "metadata": {},
   "outputs": [
    {
     "data": {
      "text/plain": [
       "0.5235987755982988"
      ]
     },
     "execution_count": 67,
     "metadata": {},
     "output_type": "execute_result"
    }
   ],
   "source": [
    "math.radians(30)"
   ]
  },
  {
   "cell_type": "code",
   "execution_count": 68,
   "metadata": {},
   "outputs": [
    {
     "name": "stdout",
     "output_type": "stream",
     "text": [
      "[5.0, 0.0]\n",
      "[4.330127018922194, 2.4999999999999996]\n",
      "[2.5000000000000004, 4.330127018922193]\n",
      "[3.061616997868383e-16, 5.0]\n",
      "[-2.499999999999999, 4.330127018922194]\n",
      "[-4.330127018922194, 2.4999999999999996]\n",
      "[-5.0, 6.123233995736766e-16]\n",
      "[-4.330127018922193, -2.5000000000000004]\n",
      "[-2.500000000000002, -4.330127018922193]\n",
      "[-9.184850993605148e-16, -5.0]\n",
      "[2.5000000000000004, -4.330127018922193]\n",
      "[4.330127018922192, -2.500000000000002]\n"
     ]
    }
   ],
   "source": [
    "import numpy as np\n",
    "import time\n",
    "from scipy.spatial import distance\n",
    "from math import pi,sin,atan,cos\n",
    "import matplotlib.pyplot as plt\n",
    "\n",
    "\n",
    "def move(i,j,t,s):\n",
    "    t=math.radians(t)\n",
    "    new_node=[i+s*cos(t),j+s*sin(t)]     \n",
    "    return new_node\n",
    "\n",
    "fig, ax = plt.subplots()\n",
    "plt.grid()\n",
    "\n",
    "ax.set_aspect('equal')\n",
    "\n",
    "plt.xlim(-10,10)\n",
    "plt.ylim(-10,10)\n",
    "X0 = np.array((0))\n",
    "Y0= np.array((0))\n",
    "U0 = np.array((2))\n",
    "V0 = np.array((-2))\n",
    "for t in range(0,360,30):\n",
    "    a=move(0,0,t,5)\n",
    "    q0 = plt.quiver(0, 0, a[0], a[1],units='xy' ,scale=1,color= 'r')\n",
    "    print(a)"
   ]
  },
  {
   "cell_type": "code",
   "execution_count": null,
   "metadata": {},
   "outputs": [],
   "source": [
    "def generatePath(q,startPosition,startOrientation,goalPosition,nodesExplored,threshDistance = 0.5,threshAngle = 30):\n",
    "    #normalize goal and start positions\n",
    "    sx,sy,st = normalize(startPosition,startOrientation,threshDistance,threshAngle)\n",
    "    gx,gy,gt = normalize(goalPosition,0,threshDistance,threshAngle)#goalpostition orientation is not knowm\n"
   ]
  },
  {
   "cell_type": "code",
   "execution_count": null,
   "metadata": {},
   "outputs": [],
   "source": [
    "def actionSet(d):\n",
    "    all_moves = [[d*1, 0, 0],                                # parallel to x\n",
    "                 [d*math.cos(30),  d*math.sin(30), 30],         # positive 30\n",
    "                 [d*math.cos(60),  d*math.sin(60), 60],         # positive 60\n",
    "                 [d*math.cos(-30), d*math.sin(-30), -30],        # negative 30\n",
    "                 [d*math.cos(-60), d*math.sin(-60), -60]]        # negative 60\n",
    "    return all_moves"
   ]
  }
 ],
 "metadata": {
  "kernelspec": {
   "display_name": "Python 3",
   "language": "python",
   "name": "python3"
  },
  "language_info": {
   "codemirror_mode": {
    "name": "ipython",
    "version": 3
   },
   "file_extension": ".py",
   "mimetype": "text/x-python",
   "name": "python",
   "nbconvert_exporter": "python",
   "pygments_lexer": "ipython3",
   "version": "3.7.1"
  }
 },
 "nbformat": 4,
 "nbformat_minor": 2
}
